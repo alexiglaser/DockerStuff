{
 "cells": [
  {
   "cell_type": "markdown",
   "metadata": {},
   "source": [
    "## R ggplots in a Python notebook\n",
    "\n",
    "The following are some examples of how to replicate a ggplot from R into a Python notebook."
   ]
  },
  {
   "cell_type": "markdown",
   "metadata": {},
   "source": [
    "#### Widgets\n",
    "This example uses rpy2 and writes R code in a Pythonic way. In addition we use widgets so that we can make it interactive."
   ]
  },
  {
   "cell_type": "code",
   "execution_count": 1,
   "metadata": {},
   "outputs": [],
   "source": [
    "import numpy as np\n",
    "import pandas as pd\n",
    "from ipywidgets import interactive\n",
    "from IPython.display import Image"
   ]
  },
  {
   "cell_type": "code",
   "execution_count": 2,
   "metadata": {},
   "outputs": [
    {
     "name": "stderr",
     "output_type": "stream",
     "text": [
      "/opt/conda/lib/python3.7/site-packages/rpy2/robjects/lib/dplyr.py:24: UserWarning: This was designed againt dplyr version 0.7.5 but you have 0.8.0.1\n",
      "  warnings.warn('This was designed againt dplyr version %s but you have %s' % (TARGET_VERSION, dplyr.__version__))\n",
      "/opt/conda/lib/python3.7/site-packages/rpy2/robjects/lib/ggplot2.py:67: UserWarning: This was designed againt ggplot2 version 2.2.1 but you have 3.1.1\n",
      "  warnings.warn('This was designed againt ggplot2 version %s but you have %s' % (TARGET_VERSION, ggplot2.__version__))\n"
     ]
    }
   ],
   "source": [
    "from rpy2 import robjects\n",
    "from rpy2.robjects.packages import importr, data\n",
    "from rpy2.robjects.lib import grdevices\n",
    "from rpy2.robjects.lib.dplyr import DataFrame\n",
    "import rpy2.robjects.lib.ggplot2 as ggplot2\n",
    "datasets = importr('datasets')\n",
    "datasets = robjects.packages.importr('datasets')\n",
    "mtcars = robjects.packages.data(datasets).fetch('mtcars')['mtcars']"
   ]
  },
  {
   "cell_type": "code",
   "execution_count": 3,
   "metadata": {},
   "outputs": [],
   "source": [
    "def interactive_ggplot(gear_value = 4):\n",
    "    with grdevices.render_to_bytesio(grdevices.jpeg, width=512, height=448, res=150) as img:\n",
    "        gp = ggplot2.ggplot(eval(f\"DataFrame(mtcars).filter('gear == {gear_value}')\"))\n",
    "        pp = (\n",
    "            gp +\n",
    "            ggplot2.aes_string(x = 'wt', y = 'mpg') +\n",
    "            ggplot2.geom_point(ggplot2.aes_string(col='qsec')) +\n",
    "            ggplot2.scale_color_gradient(low = 'yellow', high = 'red') +\n",
    "            ggplot2.labs(title = 'Rpy2 Mtcars in ggplot') +\n",
    "            ggplot2.theme_bw()\n",
    "        )\n",
    "\n",
    "        pp.plot()\n",
    "\n",
    "    display(Image(data = img.getvalue(), format = 'jpeg', embed = True))"
   ]
  },
  {
   "cell_type": "code",
   "execution_count": 4,
   "metadata": {},
   "outputs": [
    {
     "data": {
      "application/vnd.jupyter.widget-view+json": {
       "model_id": "606d6a18a7ca4fd48000f82188a6f667",
       "version_major": 2,
       "version_minor": 0
      },
      "text/plain": [
       "interactive(children=(Dropdown(description='gear_value', index=1, options=(3.0, 4.0, 5.0), value=4.0), Output(…"
      ]
     },
     "metadata": {},
     "output_type": "display_data"
    }
   ],
   "source": [
    "w = interactive(\n",
    "    interactive_ggplot,\n",
    "        gear_value = np.unique(DataFrame(mtcars).select('gear'))\n",
    ")\n",
    "w"
   ]
  },
  {
   "cell_type": "markdown",
   "metadata": {},
   "source": [
    "## Magic R command\n",
    "\n",
    "An alternative way to use the `rpy2` library is to the magic R command `%%R` at the start of a cell. This will allow us to use `R` commands in the cell."
   ]
  },
  {
   "cell_type": "code",
   "execution_count": 5,
   "metadata": {},
   "outputs": [],
   "source": [
    "import seaborn as sns\n",
    "iris = sns.load_dataset('iris')\n",
    "\n",
    "import rpy2\n",
    "# The following line is needed to activate the magic R command\n",
    "%load_ext rpy2.ipython"
   ]
  },
  {
   "cell_type": "code",
   "execution_count": 6,
   "metadata": {},
   "outputs": [
    {
     "name": "stderr",
     "output_type": "stream",
     "text": [
      "/opt/conda/lib/python3.7/site-packages/rpy2/robjects/pandas2ri.py:191: FutureWarning: from_items is deprecated. Please use DataFrame.from_dict(dict(items), ...) instead. DataFrame.from_dict(OrderedDict(items)) may be used to preserve the key order.\n",
      "  res = PandasDataFrame.from_items(items)\n"
     ]
    },
    {
     "data": {
      "image/png": "[encoded data removed]"
     },
     "metadata": {},
     "output_type": "display_data"
    }
   ],
   "source": [
    "%%R -i iris -w 800 -h 600\n",
    "# In this cell we can now use R code.\n",
    "# The `-i` refers to which dataframes you want to import from Python and convert to an R dataframe\n",
    "# The `w` and `h` refers to the width and height of the output\n",
    "suppressPackageStartupMessages({\n",
    "    library(tidyverse)\n",
    "    library(ggplot2)\n",
    "})\n",
    "iris %>%\n",
    "    filter(species != 'setosa') %>%\n",
    "    ggplot(aes(x = sepal_length, y = sepal_width, col = species)) +\n",
    "    geom_point()"
   ]
  },
  {
   "cell_type": "code",
   "execution_count": null,
   "metadata": {},
   "outputs": [],
   "source": []
  }
 ],
 "metadata": {
  "kernelspec": {
   "display_name": "Python 3",
   "language": "python",
   "name": "python3"
  },
  "language_info": {
   "codemirror_mode": {
    "name": "ipython",
    "version": 3
   },
   "file_extension": ".py",
   "mimetype": "text/x-python",
   "name": "python",
   "nbconvert_exporter": "python",
   "pygments_lexer": "ipython3",
   "version": "3.7.3"
  }
 },
 "nbformat": 4,
 "nbformat_minor": 4
}
